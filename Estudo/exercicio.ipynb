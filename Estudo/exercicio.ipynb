{
 "cells": [
  {
   "cell_type": "code",
   "execution_count": null,
   "id": "56144396",
   "metadata": {},
   "outputs": [],
   "source": [
    "somatatória = 0\n",
    "\n",
    "while True:\n",
    "    entrada = int(input(\"Digite umm número a ser adicionado ou 0 para sair.\"))\n",
    "    if entrada == 0:\n",
    "        break\n",
    "else:\n",
    "    somatatória = somatatória + entrada\n",
    "\n",
    "print(\"Somatória:\", somatatória)   "
   ]
  },
  {
   "cell_type": "code",
   "execution_count": null,
   "id": "b3927912",
   "metadata": {},
   "outputs": [],
   "source": [
    "ultimo = int(input(\"Digite o ultímo número da contagem: \\n\"))\n",
    "x = 0\n",
    "while x <= ultimo:\n",
    "    if x % 3 == 0:\n",
    "        print(x)\n",
    "    x = x + 1    \n",
    "\n",
    "                   "
   ]
  },
  {
   "cell_type": "code",
   "execution_count": null,
   "id": "85370baa",
   "metadata": {},
   "outputs": [],
   "source": [
    "ultimo = int(input(\"Digite o ultímo número da contagem: \\n\"))\n",
    "x = 0\n",
    "while x <= ultimo:\n",
    "    if x % 2 == 0:\n",
    "        print(x)\n",
    "    x = x + 1    \n",
    "        \n",
    "\n",
    "\n",
    "\n",
    "    \n"
   ]
  },
  {
   "cell_type": "code",
   "execution_count": null,
   "id": "80957187",
   "metadata": {},
   "outputs": [],
   "source": [
    "numero = int(input(\"Digite o valor certo: \\n\"))\n",
    "while numero == 2:\n",
    "    print(\"número aceito\")\n",
    "\n",
    "\n"
   ]
  },
  {
   "cell_type": "code",
   "execution_count": null,
   "id": "7854ea5d",
   "metadata": {},
   "outputs": [
    {
     "name": "stdout",
     "output_type": "stream",
     "text": [
      "10\n"
     ]
    }
   ],
   "source": [
    "x = 10\n",
    "while x <= 10:\n",
    "    print(x)\n",
    "    x = x + 1\n"
   ]
  }
 ],
 "metadata": {
  "kernelspec": {
   "display_name": "Python 3",
   "language": "python",
   "name": "python3"
  },
  "language_info": {
   "codemirror_mode": {
    "name": "ipython",
    "version": 3
   },
   "file_extension": ".py",
   "mimetype": "text/x-python",
   "name": "python",
   "nbconvert_exporter": "python",
   "pygments_lexer": "ipython3",
   "version": "3.11.9"
  }
 },
 "nbformat": 4,
 "nbformat_minor": 5
}
