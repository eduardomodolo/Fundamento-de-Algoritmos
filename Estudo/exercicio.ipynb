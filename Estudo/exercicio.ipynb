{
 "cells": [
  {
   "cell_type": "code",
   "execution_count": 1,
   "id": "53735a46",
   "metadata": {},
   "outputs": [
    {
     "name": "stdout",
     "output_type": "stream",
     "text": [
      "O maior número é: 20\n"
     ]
    }
   ],
   "source": [
    "n1 = int(input(\"Digite o primeiro número:\"))\n",
    "n2 = int(input(\"Digite o segundo número:\"))\n",
    "\n",
    "if n1 > n2:\n",
    "    print(\"O maior número é:\", n1)\n",
    "else:\n",
    "    print(\"O maior número é:\",n2)"
   ]
  },
  {
   "cell_type": "code",
   "execution_count": null,
   "id": "cd81d316",
   "metadata": {},
   "outputs": [],
   "source": [
    "n1 = int(input(\"Digite um número:\"))\n",
    "\n",
    "if n1 > 0:\n",
    "    print(\"O número é positivo.\")\n",
    "else:\n",
    "    print(\"O número é negativo.\")"
   ]
  },
  {
   "cell_type": "code",
   "execution_count": null,
   "id": "2c163747",
   "metadata": {},
   "outputs": [],
   "source": [
    "sem = int(input(\"Digite um número de 1 a sete referente a um dia da semana:\"))\n",
    "\n",
    "if sem == 1:\n",
    "    print(\"Domingo\")\n",
    "elif sem == 2:\n",
    "    print(\"Segunda\")\n",
    "elif sem == 3:\n",
    "    print(\"Terça-Feira\")\n",
    "elif sem == 4:\n",
    "    print(\"Quarta-Feira\")\n",
    "elif sem == 5:\n",
    "    print(\"Quinta-Feira\")\n",
    "elif sem == 6:\n",
    "    print(\"Sexta-Feira\")\n",
    "elif sem == 7:\n",
    "    print(\"Sábado\")"
   ]
  },
  {
   "cell_type": "code",
   "execution_count": null,
   "id": "dd187d83",
   "metadata": {},
   "outputs": [],
   "source": [
    "sal = int(input(\"Digite o valor de seu salário:\"))\n",
    "\n",
    "if sal > 1.250:\n",
    "    aumento = sal * 10/100\n",
    "else: \n",
    "    aumento = sal * 15/100\n",
    "\n",
    "total = sal + aumento\n",
    "\n",
    "print(f\"O novo salário com aumento será de: R$ { total:.2f}\")"
   ]
  },
  {
   "cell_type": "code",
   "execution_count": null,
   "id": "0ff9d8eb",
   "metadata": {},
   "outputs": [],
   "source": [
    "nasc = int(input(\"Digite o ano de seu nascimento:\"))\n",
    "\n",
    "idade = 2025 - nasc\n",
    "\n",
    "if idade >= 18:\n",
    "    print(\"Você está apto a tirar cnh.\")\n",
    "else:\n",
    "    print(\"Você não é apto a tirar cnh.\")\n",
    "\n",
    " ##feito ate exercicio 5 da aula 3##"
   ]
  },
  {
   "cell_type": "code",
   "execution_count": 8,
   "id": "42ce88c1",
   "metadata": {},
   "outputs": [
    {
     "name": "stdout",
     "output_type": "stream",
     "text": [
      "O produto é do Centro-Oeste.\n"
     ]
    }
   ],
   "source": [
    "preco = int(input(\"Digite o valor do produto:\"))\n",
    "origem = int(input(\"Digite o código de origem do produto:\"))\n",
    "\n",
    "if origem == 1:\n",
    "    print(\"O produto é do Sul.\")\n",
    "elif origem == 2:\n",
    "    print(\"O produto é do Norte.\")\n",
    "elif origem == 3:\n",
    "    print(\"O produto é do Leste.\")\n",
    "elif origem == 4:\n",
    "    print(\"O produto é do Oeste.\" )\n",
    "elif origem == 5 or origem == 6:\n",
    "    print(\"O produto é do Nordeste.\")\n",
    "elif origem == 7 or origem ==  8 or origem == 9:\n",
    "    print(\"O produto é do Sudeste.\")\n",
    "elif 10 <= origem <= 20:\n",
    "    print(\"O produto é do Centro-Oeste.\")\n"
   ]
  },
  {
   "cell_type": "code",
   "execution_count": null,
   "id": "4fdd6204",
   "metadata": {},
   "outputs": [],
   "source": [
    "#pedir numero para o usuario e retornar os impares\n",
    "\n",
    "\n",
    "limite = int(input(\"Digite um número: \"))\n",
    "\n",
    "print(\"Números entre 0 e\", limite, \"é de:\")\n",
    "\n",
    "for num in range(1, limite + 1):\n",
    "    if num %2 != 0:\n",
    "        print(num)\n",
    "       \n",
    "    "
   ]
  },
  {
   "cell_type": "code",
   "execution_count": null,
   "id": "c7443877",
   "metadata": {},
   "outputs": [],
   "source": []
  },
  {
   "cell_type": "code",
   "execution_count": null,
   "id": "c240c052",
   "metadata": {},
   "outputs": [],
   "source": [
    "for num in range(1, 50, 1):\n",
    "    print(num)\n",
    "\n",
    "for num2 in range (52, 100 + 1, 2):\n",
    "    print(num2)\n"
   ]
  },
  {
   "cell_type": "code",
   "execution_count": null,
   "id": "ae558a17",
   "metadata": {},
   "outputs": [
    {
     "name": "stdout",
     "output_type": "stream",
     "text": [
      "10.0\n"
     ]
    }
   ],
   "source": [
    "#exercicio 1 aula 7 \n",
    "\n",
    "n1 = int(input(\"Digite o primeiro numero:\"))\n",
    "n2 = int(input(\"Digite o segundo numero:\"))\n",
    "\n",
    "def calcular_media(n1, n2):\n",
    "    soma = n1 + n2\n",
    "    media = soma / 2\n",
    "    print(media)\n",
    "\n",
    "calcular_media(n1, n2)\n",
    "    "
   ]
  },
  {
   "cell_type": "code",
   "execution_count": null,
   "id": "7e445c70",
   "metadata": {},
   "outputs": [],
   "source": [
    "#exercicio 2 aula 7\n",
    "\n",
    "n1 = int(input(\"Digite o primeiro numero:\"))\n",
    "n2 = int(input(\"Digite o segundo numero:\"))\n",
    "\n",
    "def maximo(n1, n2):\n",
    "    if n1 > n2:\n",
    "        print(f\"O maior numero e {n1}\")\n",
    "    else:\n",
    "        print(f\"O maior numero e {n2}\")\n",
    "\n",
    "maximo(n1, n2)"
   ]
  },
  {
   "cell_type": "code",
   "execution_count": null,
   "id": "cd67f72e",
   "metadata": {},
   "outputs": [],
   "source": [
    "base = int(input(\"Digite a base do triangulo:\"))\n",
    "altura = int(input(\"Digite a altura do triangulo:\"))\n",
    "\n",
    "def area(base, altura):\n",
    "    total = (base * altura) / 2\n",
    "    print(f\"A area do triangulo e igual a {total}\")\n",
    "\n",
    "area(base, altura)"
   ]
  }
 ],
 "metadata": {
  "kernelspec": {
   "display_name": "Python 3",
   "language": "python",
   "name": "python3"
  },
  "language_info": {
   "codemirror_mode": {
    "name": "ipython",
    "version": 3
   },
   "file_extension": ".py",
   "mimetype": "text/x-python",
   "name": "python",
   "nbconvert_exporter": "python",
   "pygments_lexer": "ipython3",
   "version": "3.11.9"
  }
 },
 "nbformat": 4,
 "nbformat_minor": 5
}
